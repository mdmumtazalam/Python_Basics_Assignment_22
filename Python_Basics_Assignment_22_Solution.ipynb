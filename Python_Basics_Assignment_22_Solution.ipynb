{
  "cells": [
    {
      "cell_type": "markdown",
      "id": "a0f7ac8f",
      "metadata": {
        "id": "a0f7ac8f"
      },
      "source": [
        "# Python_Basics_Assignment_22 Solution :-\n",
        "SUBMITTED BY: MD MUMTAZ ALAM"
      ]
    },
    {
      "cell_type": "markdown",
      "id": "386981a2",
      "metadata": {
        "id": "386981a2"
      },
      "source": [
        "## 1. What is the result of the code, and explain?"
      ]
    },
    {
      "cell_type": "raw",
      "id": "de63b9c1",
      "metadata": {
        "id": "de63b9c1"
      },
      "source": [
        ">>> X = 'iNeuron'\n",
        ">>> def func():\n",
        "print(X)\n",
        ">>> func()"
      ]
    },
    {
      "cell_type": "markdown",
      "id": "624684d5",
      "metadata": {
        "id": "624684d5"
      },
      "source": [
        "#### Ans: \n",
        "The Result of this code is iNeuron. it is because the function intially looks for the variable X in its local scope but since there is no local variable X, it returns the value of global variable X i.e iNeuron. Please find the output below:"
      ]
    },
    {
      "cell_type": "code",
      "execution_count": null,
      "id": "ef11c8ad",
      "metadata": {
        "id": "ef11c8ad",
        "outputId": "56b47d38-f088-4f0f-9661-afd0b567df11"
      },
      "outputs": [
        {
          "name": "stdout",
          "output_type": "stream",
          "text": [
            "iNeuron\n"
          ]
        }
      ],
      "source": [
        "X = 'iNeuron'\n",
        "def func():\n",
        "    print(X)\n",
        "func()"
      ]
    },
    {
      "cell_type": "markdown",
      "id": "d61dae45",
      "metadata": {
        "id": "d61dae45"
      },
      "source": [
        "## 2. What is the result of the code, and explain?"
      ]
    },
    {
      "cell_type": "raw",
      "id": "017c9da9",
      "metadata": {
        "id": "017c9da9"
      },
      "source": [
        ">>> X = 'iNeuron'\n",
        ">>> def func():\n",
        "X = 'NI!'\n",
        ">>> func()\n",
        ">>> print(X)"
      ]
    },
    {
      "cell_type": "markdown",
      "id": "a3c4df29",
      "metadata": {
        "id": "a3c4df29"
      },
      "source": [
        "#### Ans: \n",
        "The Result of this code is NI! because the function initially looks for the variable X in its local scope. If X is not available, then it checks for variable X in the global scope. Since here the X is present in the local scope, it directly prints the value NI! and does not look for a variable in global scope."
      ]
    },
    {
      "cell_type": "code",
      "execution_count": null,
      "id": "319e2c8d",
      "metadata": {
        "id": "319e2c8d",
        "outputId": "de064a91-d48f-4f80-b525-7ee21f8af423"
      },
      "outputs": [
        {
          "name": "stdout",
          "output_type": "stream",
          "text": [
            "NI!\n"
          ]
        }
      ],
      "source": [
        "X = 'iNeuron'\n",
        "def func():\n",
        "    X = 'NI!'\n",
        "    print(X)\n",
        "func()"
      ]
    },
    {
      "cell_type": "markdown",
      "id": "b3f7063e",
      "metadata": {
        "id": "b3f7063e"
      },
      "source": [
        "## 3. What does this code print, and why?"
      ]
    },
    {
      "cell_type": "raw",
      "id": "9b2814f3",
      "metadata": {
        "id": "9b2814f3"
      },
      "source": [
        ">>> X = 'iNeuron'\n",
        ">>> def func():\n",
        "X = 'NI'\n",
        "print(X)\n",
        ">>> func()\n",
        ">>> print(X)"
      ]
    },
    {
      "cell_type": "markdown",
      "id": "beb0f15b",
      "metadata": {
        "id": "beb0f15b"
      },
      "source": [
        "#### Ans: \n",
        "The output of the code is NI and iNeuron. X=NI is in the local scope of the function func(). Hence the function prints the x value as NI. X = 'iNeuron' is in the global scope. Hence print(X) prints output as iNeuron"
      ]
    },
    {
      "cell_type": "code",
      "execution_count": null,
      "id": "e442164e",
      "metadata": {
        "id": "e442164e",
        "outputId": "bc010f7f-6ebb-4add-fd0b-39acaaad8597"
      },
      "outputs": [
        {
          "name": "stdout",
          "output_type": "stream",
          "text": [
            "NI\n",
            "iNeuron\n"
          ]
        }
      ],
      "source": [
        "X = 'iNeuron'\n",
        "def func():\n",
        "    X = 'NI'\n",
        "    print(X)\n",
        "func()\n",
        "print(X)"
      ]
    },
    {
      "cell_type": "markdown",
      "id": "d5720646",
      "metadata": {
        "id": "d5720646"
      },
      "source": [
        "## 4. What output does this code produce? Why?"
      ]
    },
    {
      "cell_type": "raw",
      "id": "3f80a3fb",
      "metadata": {
        "id": "3f80a3fb"
      },
      "source": [
        ">>> X = 'iNeuron'\n",
        ">>> def func():\n",
        "global X\n",
        "X = 'NI'\n",
        ">>> func()\n",
        ">>> print(X)"
      ]
    },
    {
      "cell_type": "markdown",
      "id": "6bb21c55",
      "metadata": {
        "id": "6bb21c55"
      },
      "source": [
        "#### Ans: \n",
        "\n",
        "The output of the code is NI. The global keyword allows a variable to be accessible in the current scope. Since we are using global keyword inside the function func, it directly accesses the variable in X in global scope and changes its value to NI. Hence the output of the code is NI as shown below."
      ]
    },
    {
      "cell_type": "code",
      "execution_count": null,
      "id": "b3d29dc8",
      "metadata": {
        "id": "b3d29dc8",
        "outputId": "25d71df9-9a21-4ea6-8c4e-c198a01026bf"
      },
      "outputs": [
        {
          "name": "stdout",
          "output_type": "stream",
          "text": [
            "NI\n"
          ]
        }
      ],
      "source": [
        "X = 'iNeuron'\n",
        "def func():\n",
        "    global X\n",
        "    X = 'NI'\n",
        "func()\n",
        "print(X)"
      ]
    },
    {
      "cell_type": "markdown",
      "id": "df2e99c0",
      "metadata": {
        "id": "df2e99c0"
      },
      "source": [
        "## 5. What about this code—what’s the output, and why?"
      ]
    },
    {
      "cell_type": "raw",
      "id": "e355d01c",
      "metadata": {
        "id": "e355d01c"
      },
      "source": [
        ">>> X = 'iNeuron'\n",
        ">>> def func():\n",
        "X = 'NI'\n",
        "def nested():\n",
        "print(X)\n",
        "nested()\n",
        ">>> func()\n",
        ">>> X"
      ]
    },
    {
      "cell_type": "markdown",
      "id": "f88f6c67",
      "metadata": {
        "id": "f88f6c67"
      },
      "source": [
        "#### Ans: \n",
        "\n",
        "The output of the code is NI and iNeuron. Output of func() is 'NI' because it has a variable X as 'NI' in its local scope whereas Output of X is 'iNeuron' because it refers to variable X that is having global scope instead of referring to a variable having a local scope in a function."
      ]
    },
    {
      "cell_type": "code",
      "execution_count": null,
      "id": "68e8d1ca",
      "metadata": {
        "id": "68e8d1ca",
        "outputId": "c9de2060-ce25-40a7-ae59-d68eb11e07b8"
      },
      "outputs": [
        {
          "name": "stdout",
          "output_type": "stream",
          "text": [
            "NI\n"
          ]
        },
        {
          "data": {
            "text/plain": [
              "'iNeuron'"
            ]
          },
          "execution_count": 5,
          "metadata": {},
          "output_type": "execute_result"
        }
      ],
      "source": [
        "X = 'iNeuron'\n",
        "def func():\n",
        "    X = 'NI'\n",
        "    def nested():\n",
        "        print(X)\n",
        "    nested()\n",
        "func()\n",
        "X"
      ]
    },
    {
      "cell_type": "markdown",
      "id": "a8955311",
      "metadata": {
        "id": "a8955311"
      },
      "source": [
        "## 6. How about this code: what is its output in Python 3, and explain?"
      ]
    },
    {
      "cell_type": "raw",
      "id": "ec805b44",
      "metadata": {
        "id": "ec805b44"
      },
      "source": [
        ">>> def func():\n",
        "X = 'NI'\n",
        "def nested():\n",
        "nonlocal X\n",
        "X = 'Spam'\n",
        "nested()\n",
        "print(X)\n",
        ">>> func()"
      ]
    },
    {
      "cell_type": "markdown",
      "id": "20eda619",
      "metadata": {
        "id": "20eda619"
      },
      "source": [
        "#### Ans: \n",
        "The output of the code is Spam. nonlocal keyword in python is used to declare a variable as not local.Hence the statement X = \"Spam\" is modified in the global scope. Hence the output of print(X) statement is Spam"
      ]
    },
    {
      "cell_type": "code",
      "execution_count": null,
      "id": "4321ad78",
      "metadata": {
        "id": "4321ad78",
        "outputId": "37734313-8381-4883-ec79-05686f1cccc0"
      },
      "outputs": [
        {
          "name": "stdout",
          "output_type": "stream",
          "text": [
            "Spam\n"
          ]
        }
      ],
      "source": [
        "def func():\n",
        "    X = 'NI'\n",
        "    def nested():\n",
        "        nonlocal X\n",
        "        X = 'Spam'\n",
        "    nested()\n",
        "    print(X)\n",
        "func()"
      ]
    },
    {
      "cell_type": "markdown",
      "id": "87083695",
      "metadata": {
        "id": "87083695"
      },
      "source": [
        "# Thank You"
      ]
    }
  ],
  "metadata": {
    "kernelspec": {
      "display_name": "Python 3 (ipykernel)",
      "language": "python",
      "name": "python3"
    },
    "language_info": {
      "codemirror_mode": {
        "name": "ipython",
        "version": 3
      },
      "file_extension": ".py",
      "mimetype": "text/x-python",
      "name": "python",
      "nbconvert_exporter": "python",
      "pygments_lexer": "ipython3",
      "version": "3.9.7"
    },
    "colab": {
      "provenance": []
    }
  },
  "nbformat": 4,
  "nbformat_minor": 5
}